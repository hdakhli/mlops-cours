{
 "cells": [
  {
   "cell_type": "markdown",
   "source": [
    "<a href=\"https://colab.research.google.com/github/hdakhli/mlops-cours/blob/main/2_premier_model.ipynb\" target=\"_parent\"><img src=\"https://colab.research.google.com/assets/colab-badge.svg\" alt=\"Open In Colab\"/></a>"
   ],
   "metadata": {
    "collapsed": false
   },
   "id": "cbea79c27de376e7"
  },
  {
   "cell_type": "markdown",
   "source": [
    "## Exemple d'apprentissage supervisé avec sklearn"
   ],
   "metadata": {
    "collapsed": false
   },
   "id": "276e2d31d98d2242"
  },
  {
   "cell_type": "markdown",
   "source": [
    "#### 1. Régression lineaire"
   ],
   "metadata": {
    "collapsed": false
   },
   "id": "d797c17deb0a1032"
  },
  {
   "cell_type": "code",
   "execution_count": null,
   "id": "initial_id",
   "metadata": {
    "collapsed": true
   },
   "outputs": [],
   "source": [
    "!pip install numpy\n",
    "!pip install matplotlib\n",
    "!pip install sklearn"
   ]
  },
  {
   "cell_type": "code",
   "execution_count": 3,
   "outputs": [],
   "source": [
    "import numpy as np\n",
    "import matplotlib.pyplot as plt"
   ],
   "metadata": {
    "collapsed": false,
    "ExecuteTime": {
     "end_time": "2023-09-29T14:14:35.837638Z",
     "start_time": "2023-09-29T14:14:35.165364Z"
    }
   },
   "id": "1263d964e4971ed2"
  },
  {
   "cell_type": "markdown",
   "source": [
    "#\n",
    "#"
   ],
   "metadata": {
    "collapsed": false
   },
   "id": "340a99fc43cd58a5"
  },
  {
   "cell_type": "code",
   "execution_count": null,
   "outputs": [],
   "source": [
    "np.random.seed(0)\n",
    "m = 100 # creation de 100 échantillons\n",
    "X = np.linspace(0, 10, m).reshape(m,1)\n",
    "y = X + np.random.randn(m, 1)\n",
    "print(X)"
   ],
   "metadata": {
    "collapsed": false
   },
   "id": "bcee2f092378cb49"
  },
  {
   "cell_type": "markdown",
   "source": [
    "#\n",
    "#"
   ],
   "metadata": {
    "collapsed": false
   },
   "id": "2149d977aad33d06"
  },
  {
   "cell_type": "code",
   "execution_count": null,
   "outputs": [],
   "source": [
    "plt.scatter(X, y)"
   ],
   "metadata": {
    "collapsed": false
   },
   "id": "c76c9c2239202d4f"
  },
  {
   "cell_type": "code",
   "execution_count": 7,
   "outputs": [],
   "source": [
    "from sklearn.linear_model import LinearRegression"
   ],
   "metadata": {
    "collapsed": false,
    "ExecuteTime": {
     "end_time": "2023-09-29T14:38:01.378114Z",
     "start_time": "2023-09-29T14:38:00.194672Z"
    }
   },
   "id": "43199d3ff3081837"
  },
  {
   "cell_type": "code",
   "execution_count": null,
   "outputs": [],
   "source": [
    "model = LinearRegression()\n",
    "model.fit(X, y) # entrainement du modele\n",
    "model.score(X, y) # évaluation du model"
   ],
   "metadata": {
    "collapsed": false
   },
   "id": "98029c8d5cb4c6cb"
  },
  {
   "cell_type": "markdown",
   "source": [
    "#"
   ],
   "metadata": {
    "collapsed": false
   },
   "id": "2e12b2336882d3fb"
  },
  {
   "cell_type": "code",
   "execution_count": null,
   "outputs": [],
   "source": [
    "plt.scatter(X, y)\n",
    "plt.plot(X, model.predict(X), c='red')"
   ],
   "metadata": {
    "collapsed": false
   },
   "id": "cf504d3ba7ef9ec6"
  },
  {
   "cell_type": "markdown",
   "source": [
    "#\n",
    "#"
   ],
   "metadata": {
    "collapsed": false
   },
   "id": "f73b576d838729c3"
  },
  {
   "cell_type": "markdown",
   "source": [
    "#### 2.Classification"
   ],
   "metadata": {
    "collapsed": false
   },
   "id": "f94958923c878ddb"
  },
  {
   "cell_type": "code",
   "execution_count": null,
   "outputs": [],
   "source": [
    "!pip install pandas"
   ],
   "metadata": {
    "collapsed": false
   },
   "id": "43c7586ed1a11d58"
  },
  {
   "cell_type": "code",
   "execution_count": 13,
   "outputs": [],
   "source": [
    "import pandas as pd"
   ],
   "metadata": {
    "collapsed": false,
    "ExecuteTime": {
     "end_time": "2023-09-29T14:59:33.378642Z",
     "start_time": "2023-09-29T14:59:32.854418Z"
    }
   },
   "id": "358821e4f745020d"
  },
  {
   "cell_type": "code",
   "execution_count": null,
   "outputs": [],
   "source": [
    "titanic = pd.read_excel(\"datasets/titanic.xls\")\n",
    "titanic.head()"
   ],
   "metadata": {
    "collapsed": false
   },
   "id": "c2b68755c0fe1852"
  },
  {
   "cell_type": "markdown",
   "source": [
    "#\n",
    "#\n",
    "#\n",
    "#"
   ],
   "metadata": {
    "collapsed": false
   },
   "id": "1a577b07930bab57"
  },
  {
   "cell_type": "code",
   "execution_count": 16,
   "outputs": [],
   "source": [
    "titanic = titanic[['survived', 'pclass', 'sex', 'age']]\n",
    "titanic.dropna(axis=0, inplace=True)\n",
    "titanic['sex'].replace(['male', 'female'], [0, 1], inplace=True)"
   ],
   "metadata": {
    "collapsed": false,
    "ExecuteTime": {
     "end_time": "2023-09-29T16:49:00.064827Z",
     "start_time": "2023-09-29T16:49:00.057429Z"
    }
   },
   "id": "81d6ff58ab5a81bd"
  },
  {
   "cell_type": "code",
   "execution_count": 17,
   "outputs": [],
   "source": [
    "from sklearn.neighbors import KNeighborsClassifier"
   ],
   "metadata": {
    "collapsed": false,
    "ExecuteTime": {
     "end_time": "2023-09-29T16:49:03.227389Z",
     "start_time": "2023-09-29T16:49:03.144101Z"
    }
   },
   "id": "9dfa90621e119c19"
  },
  {
   "cell_type": "code",
   "execution_count": 18,
   "outputs": [],
   "source": [
    "model = KNeighborsClassifier(n_neighbors=10)"
   ],
   "metadata": {
    "collapsed": false,
    "ExecuteTime": {
     "end_time": "2023-09-29T16:49:04.203664Z",
     "start_time": "2023-09-29T16:49:04.197296Z"
    }
   },
   "id": "3556e452a372a7e3"
  },
  {
   "cell_type": "code",
   "execution_count": 19,
   "outputs": [],
   "source": [
    "y = titanic['survived']\n",
    "X = titanic.drop('survived', axis=1)"
   ],
   "metadata": {
    "collapsed": false,
    "ExecuteTime": {
     "end_time": "2023-09-29T16:49:05.784050Z",
     "start_time": "2023-09-29T16:49:05.779853Z"
    }
   },
   "id": "ee913bd6f157826f"
  },
  {
   "cell_type": "code",
   "execution_count": null,
   "outputs": [],
   "source": [
    "model.fit(X, y) # entrainement du modele\n",
    "model.score(X, y) # évaluation"
   ],
   "metadata": {
    "collapsed": false
   },
   "id": "393785008f659fcf"
  },
  {
   "cell_type": "markdown",
   "source": [
    "#### Trouver le meilleur hyperparametre k pour avoir la meilleur accuracy"
   ],
   "metadata": {
    "collapsed": false
   },
   "id": "9f02140cb6f81fac"
  },
  {
   "cell_type": "code",
   "execution_count": null,
   "outputs": [],
   "source": [],
   "metadata": {
    "collapsed": false
   },
   "id": "ed4f17a92f3e9b5"
  },
  {
   "cell_type": "code",
   "execution_count": null,
   "outputs": [],
   "source": [],
   "metadata": {
    "collapsed": false
   },
   "id": "58c5bc97b55619c7"
  },
  {
   "cell_type": "code",
   "execution_count": null,
   "outputs": [],
   "source": [],
   "metadata": {
    "collapsed": false
   },
   "id": "1dcc6eb2f9ece9eb"
  },
  {
   "cell_type": "code",
   "execution_count": null,
   "outputs": [],
   "source": [],
   "metadata": {
    "collapsed": false
   },
   "id": "a6859b5bfaa1d59f"
  }
 ],
 "metadata": {
  "kernelspec": {
   "display_name": "Python 3",
   "language": "python",
   "name": "python3"
  },
  "language_info": {
   "codemirror_mode": {
    "name": "ipython",
    "version": 2
   },
   "file_extension": ".py",
   "mimetype": "text/x-python",
   "name": "python",
   "nbconvert_exporter": "python",
   "pygments_lexer": "ipython2",
   "version": "2.7.6"
  }
 },
 "nbformat": 4,
 "nbformat_minor": 5
}
