{
 "cells": [
  {
   "cell_type": "markdown",
   "source": [
    "<a href=\"https://colab.research.google.com/github/hdakhli/mlops-cours/blob/main/2_premier_model.ipynb\" target=\"_parent\"><img src=\"https://colab.research.google.com/assets/colab-badge.svg\" alt=\"Open In Colab\"/></a>"
   ],
   "metadata": {
    "collapsed": false
   },
   "id": "cbea79c27de376e7"
  },
  {
   "cell_type": "markdown",
   "source": [
    "## Exemple d'apprentissage supervisé avec sklearn"
   ],
   "metadata": {
    "collapsed": false
   },
   "id": "276e2d31d98d2242"
  },
  {
   "cell_type": "markdown",
   "source": [
    "#### 1. Régression lineaire"
   ],
   "metadata": {
    "collapsed": false
   },
   "id": "d797c17deb0a1032"
  },
  {
   "cell_type": "code",
   "execution_count": null,
   "id": "initial_id",
   "metadata": {
    "collapsed": true
   },
   "outputs": [],
   "source": [
    "!pip install numpy\n",
    "!pip install matplotlib\n",
    "!pip install sklearn"
   ]
  },
  {
   "cell_type": "code",
   "execution_count": 2,
   "outputs": [],
   "source": [
    "import numpy as np\n",
    "import matplotlib.pyplot as plt"
   ],
   "metadata": {
    "collapsed": false,
    "ExecuteTime": {
     "end_time": "2023-10-13T19:42:56.379787Z",
     "start_time": "2023-10-13T19:42:53.897193Z"
    }
   },
   "id": "1263d964e4971ed2"
  },
  {
   "cell_type": "markdown",
   "source": [
    "#\n",
    "#"
   ],
   "metadata": {
    "collapsed": false
   },
   "id": "340a99fc43cd58a5"
  },
  {
   "cell_type": "code",
   "execution_count": null,
   "outputs": [],
   "source": [
    "np.random.seed(0)\n",
    "m = 100 # creation de 100 échantillons\n",
    "X = np.linspace(0, 10, m).reshape(m,1)\n",
    "y = X + np.random.randn(m, 1)\n",
    "print(f\"X: {X}\")\n",
    "print(\"=====================\")\n",
    "print(f\"y: {y}\")"
   ],
   "metadata": {
    "collapsed": false
   },
   "id": "bcee2f092378cb49"
  },
  {
   "cell_type": "markdown",
   "source": [
    "#\n",
    "#"
   ],
   "metadata": {
    "collapsed": false
   },
   "id": "2149d977aad33d06"
  },
  {
   "cell_type": "code",
   "execution_count": null,
   "outputs": [],
   "source": [
    "plt.scatter(X, y)"
   ],
   "metadata": {
    "collapsed": false
   },
   "id": "c76c9c2239202d4f"
  },
  {
   "cell_type": "code",
   "execution_count": 5,
   "outputs": [],
   "source": [
    "from sklearn.linear_model import LinearRegression"
   ],
   "metadata": {
    "collapsed": false,
    "ExecuteTime": {
     "end_time": "2023-10-13T19:43:04.269887Z",
     "start_time": "2023-10-13T19:42:55.601853Z"
    }
   },
   "id": "43199d3ff3081837"
  },
  {
   "cell_type": "code",
   "execution_count": null,
   "outputs": [],
   "source": [
    "model = LinearRegression()\n",
    "model.fit(X, y) # entrainement du modele\n",
    "model.score(X, y) # évaluation du model"
   ],
   "metadata": {
    "collapsed": false
   },
   "id": "98029c8d5cb4c6cb"
  },
  {
   "cell_type": "markdown",
   "source": [
    "#"
   ],
   "metadata": {
    "collapsed": false
   },
   "id": "2e12b2336882d3fb"
  },
  {
   "cell_type": "code",
   "execution_count": null,
   "outputs": [],
   "source": [
    "plt.scatter(X, y)\n",
    "plt.plot(X, model.predict(X), c='red')"
   ],
   "metadata": {
    "collapsed": false
   },
   "id": "cf504d3ba7ef9ec6"
  },
  {
   "cell_type": "markdown",
   "source": [
    "#\n",
    "#"
   ],
   "metadata": {
    "collapsed": false
   },
   "id": "f73b576d838729c3"
  },
  {
   "cell_type": "markdown",
   "source": [
    "#### 2.Classification"
   ],
   "metadata": {
    "collapsed": false
   },
   "id": "f94958923c878ddb"
  },
  {
   "cell_type": "code",
   "execution_count": null,
   "outputs": [],
   "source": [
    "!pip install pandas"
   ],
   "metadata": {
    "collapsed": false
   },
   "id": "43c7586ed1a11d58"
  },
  {
   "cell_type": "code",
   "execution_count": 1,
   "outputs": [],
   "source": [
    "import pandas as pd"
   ],
   "metadata": {
    "collapsed": false,
    "ExecuteTime": {
     "end_time": "2023-10-15T09:46:03.643438Z",
     "start_time": "2023-10-15T09:46:01.887367Z"
    }
   },
   "id": "358821e4f745020d"
  },
  {
   "cell_type": "code",
   "execution_count": null,
   "outputs": [],
   "source": [
    "titanic = pd.read_excel(\"datasets/titanic.xls\")\n",
    "titanic.head()"
   ],
   "metadata": {
    "collapsed": false
   },
   "id": "c2b68755c0fe1852"
  },
  {
   "cell_type": "markdown",
   "source": [
    "#\n",
    "#\n",
    "#\n",
    "#"
   ],
   "metadata": {
    "collapsed": false
   },
   "id": "1a577b07930bab57"
  },
  {
   "cell_type": "code",
   "execution_count": 3,
   "outputs": [],
   "source": [
    "titanic = titanic[['survived', 'pclass', 'sex', 'age']]\n",
    "titanic.dropna(axis=0, inplace=True)\n",
    "titanic['sex'].replace(['male', 'female'], [0, 1], inplace=True)"
   ],
   "metadata": {
    "collapsed": false,
    "ExecuteTime": {
     "end_time": "2023-10-15T09:46:11.440305Z",
     "start_time": "2023-10-15T09:46:11.431571Z"
    }
   },
   "id": "81d6ff58ab5a81bd"
  },
  {
   "cell_type": "code",
   "execution_count": 4,
   "outputs": [],
   "source": [
    "from sklearn.neighbors import KNeighborsClassifier"
   ],
   "metadata": {
    "collapsed": false,
    "ExecuteTime": {
     "end_time": "2023-10-15T09:46:17.489338Z",
     "start_time": "2023-10-15T09:46:13.550748Z"
    }
   },
   "id": "9dfa90621e119c19"
  },
  {
   "cell_type": "code",
   "execution_count": 5,
   "outputs": [],
   "source": [
    "model = KNeighborsClassifier(n_neighbors=10)"
   ],
   "metadata": {
    "collapsed": false,
    "ExecuteTime": {
     "end_time": "2023-10-15T09:46:19.176935Z",
     "start_time": "2023-10-15T09:46:19.172805Z"
    }
   },
   "id": "3556e452a372a7e3"
  },
  {
   "cell_type": "code",
   "execution_count": null,
   "outputs": [],
   "source": [
    "y = titanic['survived']\n",
    "X = titanic.drop('survived', axis=1)\n",
    "X.head()"
   ],
   "metadata": {
    "collapsed": false
   },
   "id": "ee913bd6f157826f"
  },
  {
   "cell_type": "code",
   "execution_count": null,
   "outputs": [],
   "source": [
    "model.fit(X, y) # entrainement du modele\n",
    "model.score(X, y) # évaluation"
   ],
   "metadata": {
    "collapsed": false
   },
   "id": "393785008f659fcf"
  },
  {
   "cell_type": "markdown",
   "source": [],
   "metadata": {
    "collapsed": false
   },
   "id": "9f02140cb6f81fac"
  },
  {
   "cell_type": "code",
   "execution_count": null,
   "outputs": [],
   "source": [
    "!pip install joblib"
   ],
   "metadata": {
    "collapsed": false
   },
   "id": "ed4f17a92f3e9b5"
  },
  {
   "cell_type": "code",
   "execution_count": 8,
   "outputs": [],
   "source": [
    "import joblib"
   ],
   "metadata": {
    "collapsed": false,
    "ExecuteTime": {
     "end_time": "2023-10-15T09:46:30.158005Z",
     "start_time": "2023-10-15T09:46:30.144779Z"
    }
   },
   "id": "58c5bc97b55619c7"
  },
  {
   "cell_type": "code",
   "execution_count": null,
   "outputs": [],
   "source": [],
   "metadata": {
    "collapsed": false
   },
   "id": "1dcc6eb2f9ece9eb"
  },
  {
   "cell_type": "code",
   "execution_count": null,
   "outputs": [],
   "source": [],
   "metadata": {
    "collapsed": false
   },
   "id": "a6859b5bfaa1d59f"
  },
  {
   "cell_type": "code",
   "execution_count": 17,
   "outputs": [],
   "source": [],
   "metadata": {
    "collapsed": false,
    "ExecuteTime": {
     "end_time": "2023-10-13T19:43:16.842274Z",
     "start_time": "2023-10-13T19:43:16.455485Z"
    }
   },
   "id": "68b28c18ed5e2dd7"
  },
  {
   "cell_type": "code",
   "execution_count": 17,
   "outputs": [],
   "source": [],
   "metadata": {
    "collapsed": false,
    "ExecuteTime": {
     "end_time": "2023-10-13T19:43:16.842430Z",
     "start_time": "2023-10-13T19:43:16.457836Z"
    }
   },
   "id": "72bf22c4fc41d530"
  },
  {
   "cell_type": "code",
   "execution_count": 17,
   "outputs": [],
   "source": [],
   "metadata": {
    "collapsed": false,
    "ExecuteTime": {
     "end_time": "2023-10-13T19:43:16.842546Z",
     "start_time": "2023-10-13T19:43:16.462085Z"
    }
   },
   "id": "aa63d390a7fc0233"
  },
  {
   "cell_type": "code",
   "execution_count": 17,
   "outputs": [],
   "source": [],
   "metadata": {
    "collapsed": false,
    "ExecuteTime": {
     "end_time": "2023-10-13T19:43:16.842680Z",
     "start_time": "2023-10-13T19:43:16.466293Z"
    }
   },
   "id": "55b468c6652b1358"
  },
  {
   "cell_type": "code",
   "execution_count": 17,
   "outputs": [],
   "source": [],
   "metadata": {
    "collapsed": false,
    "ExecuteTime": {
     "end_time": "2023-10-13T19:43:16.842847Z",
     "start_time": "2023-10-13T19:43:16.469212Z"
    }
   },
   "id": "a0151e39757c0b4f"
  },
  {
   "cell_type": "code",
   "execution_count": 17,
   "outputs": [],
   "source": [],
   "metadata": {
    "collapsed": false,
    "ExecuteTime": {
     "end_time": "2023-10-13T19:43:16.842958Z",
     "start_time": "2023-10-13T19:43:16.472451Z"
    }
   },
   "id": "be6102ed229dcb69"
  }
 ],
 "metadata": {
  "kernelspec": {
   "display_name": "Python 3",
   "language": "python",
   "name": "python3"
  },
  "language_info": {
   "codemirror_mode": {
    "name": "ipython",
    "version": 2
   },
   "file_extension": ".py",
   "mimetype": "text/x-python",
   "name": "python",
   "nbconvert_exporter": "python",
   "pygments_lexer": "ipython2",
   "version": "2.7.6"
  }
 },
 "nbformat": 4,
 "nbformat_minor": 5
}
