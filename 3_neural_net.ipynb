{
 "cells": [
  {
   "cell_type": "markdown",
   "source": [
    "<a href=\"https://colab.research.google.com/github/hdakhli/mlops-cours/blob/main/3_neural_net.ipynb\" target=\"_parent\"><img src=\"https://colab.research.google.com/assets/colab-badge.svg\" alt=\"Open In Colab\"/></a>"
   ],
   "metadata": {
    "collapsed": false
   },
   "id": "99fcdf0a73f3d615"
  },
  {
   "cell_type": "markdown",
   "source": [
    "## Classifier des images avec TensorFlow\n",
    "\n",
    "Pour commencer à utiliser TensorFlow pour des taches de Deep Learning, nous allons faire un exemple de classification d'images de chiffres manuscrits. Pour ce faire, nous utiliserons le jeu de données très connu MNIST.\n",
    "\n",
    "\n",
    "<img src=\"datasets/MNIST-dataset.png\">"
   ],
   "metadata": {
    "collapsed": false
   },
   "id": "9879c03ec87473a1"
  },
  {
   "cell_type": "code",
   "execution_count": null,
   "outputs": [],
   "source": [
    "!pip install tensorflow"
   ],
   "metadata": {
    "collapsed": false
   },
   "id": "6db20d9ed387ff9d"
  },
  {
   "cell_type": "code",
   "execution_count": 79,
   "outputs": [],
   "source": [
    "import tensorflow.compat.v1 as tf\n",
    "tf.disable_v2_behavior()"
   ],
   "metadata": {
    "collapsed": false,
    "ExecuteTime": {
     "end_time": "2023-10-15T20:06:56.545422Z",
     "start_time": "2023-10-15T20:06:56.540110Z"
    }
   },
   "id": "initial_id"
  },
  {
   "cell_type": "markdown",
   "source": [
    "Les données doivent être pré-traitées avant de pouvoir être utilisées dans le réseau de neurones. Les valeurs de pixels doivent être normalisées de 0 à 1."
   ],
   "metadata": {
    "collapsed": false
   },
   "id": "462cf843071f3e30"
  },
  {
   "cell_type": "code",
   "execution_count": 80,
   "outputs": [],
   "source": [
    "mnist = tf.keras.datasets.mnist\n",
    "(x_train, y_train), (x_test, y_test) = mnist.load_data()\n",
    "x_train, x_test = x_train / 255.0, x_test / 255.0"
   ],
   "metadata": {
    "collapsed": false,
    "ExecuteTime": {
     "end_time": "2023-10-15T20:06:59.860248Z",
     "start_time": "2023-10-15T20:06:59.056821Z"
    }
   },
   "id": "4b75fb44896a6d52"
  },
  {
   "cell_type": "markdown",
   "source": [
    "Nous définissons le modèle de réseau de neurones en utilisant la fonction Sequential. Notre modèle comprend trois couches, une couche Flatten et deux couches denses. La première couche remodèle le tenseur pour le rendre à une seule dimension égale au nombre d’éléments contenus dans le tenseur."
   ],
   "metadata": {
    "collapsed": false
   },
   "id": "c9e46d6a32fa3ab6"
  },
  {
   "cell_type": "code",
   "execution_count": 81,
   "outputs": [],
   "source": [
    "model = tf.keras.models.Sequential([\n",
    "    tf.keras.layers.Flatten(input_shape=(28, 28)),\n",
    "    tf.keras.layers.Dense(128, activation=tf.nn.sigmoid),\n",
    "    tf.keras.layers.Dense(10)\n",
    "])"
   ],
   "metadata": {
    "collapsed": false,
    "ExecuteTime": {
     "end_time": "2023-10-15T20:07:04.058185Z",
     "start_time": "2023-10-15T20:07:04.025028Z"
    }
   },
   "id": "7d07b3f47db6185d"
  },
  {
   "cell_type": "markdown",
   "source": [
    "Le modèle est compilé avec l'optimiseur Adam (Adaptive Moment Estimation) qui est un algo de descente de gradiant et la fonction de perte SparseCategoricalCrossentropy qui est la fonction de coût Log Loss."
   ],
   "metadata": {
    "collapsed": false
   },
   "id": "b19279233ad0f953"
  },
  {
   "cell_type": "code",
   "execution_count": 82,
   "outputs": [],
   "source": [
    "model.compile(\n",
    "    optimizer=tf.keras.optimizers.Adam(0.001),\n",
    "    loss=tf.keras.losses.SparseCategoricalCrossentropy(from_logits=True),\n",
    "    metrics=[tf.keras.metrics.SparseCategoricalAccuracy()],\n",
    ")"
   ],
   "metadata": {
    "collapsed": false,
    "ExecuteTime": {
     "end_time": "2023-10-15T20:07:09.979421Z",
     "start_time": "2023-10-15T20:07:09.949868Z"
    }
   },
   "id": "b4838a4d5ec7ba5b"
  },
  {
   "cell_type": "markdown",
   "source": [
    "Le modèle est entraîné en utilisant les données d'apprentissage. L'entraînement est effectué sur 10 époques. La fonction evaluate permet d'évaluer le modèle en cours d'entrainement et afficher les scores de performance tels que la perte et la précision."
   ],
   "metadata": {
    "collapsed": false
   },
   "id": "4bd3c9270ddbc84e"
  },
  {
   "cell_type": "code",
   "execution_count": null,
   "outputs": [],
   "source": [
    "model.fit(x_train, y_train, epochs=5)\n",
    "model.evaluate(x_test, y_test, verbose=2)"
   ],
   "metadata": {
    "collapsed": false
   },
   "id": "ded4ab6581c7848f"
  },
  {
   "cell_type": "code",
   "execution_count": 88,
   "outputs": [],
   "source": [
    "# Choisir une image du test set\n",
    "# Afficher la à l'aide de matplotlib\n",
    "# Vérifier si votre model predit la bonne valeur de cette image"
   ],
   "metadata": {
    "collapsed": false,
    "ExecuteTime": {
     "end_time": "2023-10-15T20:08:14.812141Z",
     "start_time": "2023-10-15T20:08:14.797324Z"
    }
   },
   "id": "9f93f9c725a3627c"
  },
  {
   "cell_type": "code",
   "execution_count": null,
   "outputs": [],
   "source": [],
   "metadata": {
    "collapsed": false
   },
   "id": "aa4b54366590691"
  },
  {
   "cell_type": "code",
   "execution_count": null,
   "outputs": [],
   "source": [],
   "metadata": {
    "collapsed": false
   },
   "id": "3d2b33f19d76494a"
  },
  {
   "cell_type": "code",
   "execution_count": null,
   "outputs": [],
   "source": [],
   "metadata": {
    "collapsed": false
   },
   "id": "c9537a504e2599dd"
  },
  {
   "cell_type": "code",
   "execution_count": null,
   "outputs": [],
   "source": [],
   "metadata": {
    "collapsed": false
   },
   "id": "4a360b3d0dae9c0f"
  }
 ],
 "metadata": {
  "kernelspec": {
   "display_name": "Python 3",
   "language": "python",
   "name": "python3"
  },
  "language_info": {
   "codemirror_mode": {
    "name": "ipython",
    "version": 2
   },
   "file_extension": ".py",
   "mimetype": "text/x-python",
   "name": "python",
   "nbconvert_exporter": "python",
   "pygments_lexer": "ipython2",
   "version": "2.7.6"
  }
 },
 "nbformat": 4,
 "nbformat_minor": 5
}
